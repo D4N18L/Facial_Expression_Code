{
 "cells": [
  {
   "cell_type": "code",
   "execution_count": null,
   "metadata": {
    "collapsed": true
   },
   "outputs": [],
   "source": [
    "import numpy as np\n",
    "import pandas as pd\n",
    "import matplotlib.pyplot as plt\n",
    "from matplotlib import style\n",
    "import seaborn as sns\n",
    "\n",
    "#Developing a Support Vector Machine from scratch\n",
    "\n",
    "class SVM:\n",
    "    def __init__(self,visualization=True): #visualization is a boolean\n",
    "        self.visualization = visualization #boolean\n",
    "        self.colors = {1:'r',-1:'b'} #colors for the points\n",
    "        if self.visualization: #if visualization is true\n",
    "            self.fig = plt.figure() #create a figure\n",
    "            self.ax = self.fig.add_subplot(1,1,1) #add a subplot\n",
    "\n",
    "    def fit(self,data):\n",
    "        pass\n",
    "\n",
    "    def predict(self,data):\n",
    "\n",
    "        classification = np.sign(np.dot(np.array(data),self.w)+self.b) #classification is the sign of the dot product of the data and the weights and the bias\n",
    "\n",
    "        if self.visualization: #if visualization is true\n",
    "            for i in range(len(classification)): #for each point\n",
    "                self.ax.scatter(data[i][0],data[i][1],s=100,color=self.colors[classification[i]]) #plot the point\n",
    "            plt.show()\n",
    "\n",
    "        return classification"
   ]
  },
  {
   "cell_type": "code",
   "execution_count": null,
   "outputs": [],
   "source": [
    "#Training the SVM\n"
   ],
   "metadata": {
    "collapsed": false,
    "pycharm": {
     "name": "#%%\n"
    }
   }
  }
 ],
 "metadata": {
  "kernelspec": {
   "display_name": "Python 3",
   "language": "python",
   "name": "python3"
  },
  "language_info": {
   "codemirror_mode": {
    "name": "ipython",
    "version": 2
   },
   "file_extension": ".py",
   "mimetype": "text/x-python",
   "name": "python",
   "nbconvert_exporter": "python",
   "pygments_lexer": "ipython2",
   "version": "2.7.6"
  }
 },
 "nbformat": 4,
 "nbformat_minor": 0
}