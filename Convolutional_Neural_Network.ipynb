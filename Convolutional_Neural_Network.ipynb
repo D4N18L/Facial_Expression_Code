{
 "cells": [
  {
   "cell_type": "code",
   "execution_count": 2,
   "metadata": {
    "collapsed": true
   },
   "outputs": [],
   "source": [
    "import tensorflow as tf\n",
    "import numpy as np\n",
    "import pandas as pd\n",
    "import matplotlib.pyplot as plt\n",
    "import seaborn as sns\n",
    "from sklearn.metrics import accuracy_score , confusion_matrix\n",
    "from keras.models import Sequential\n",
    "from keras.layers import Activation, Conv2D, MaxPooling2D,Flatten,Dense,Dropout\n",
    "from keras.optimizer_v2.adam import Adam\n",
    "from sklearn import datasets\n",
    "from sklearn.model_selection import train_test_split\n",
    "\n",
    "\n",
    "class Cnn:\n",
    "\n",
    "    def __init__(self,X_train,y_train,X_test,y_test,epochs,batch_size,learning_rate,num_classes,num_filters,filter_size,pool_size,hidden_layer_size,dropout_rate):\n",
    "        self.X_train = X_train\n",
    "        self.y_train = y_train\n",
    "        self.X_test = X_test\n",
    "        self.y_test = y_test\n",
    "        self.epochs = epochs\n",
    "        self.batch_size = batch_size\n",
    "        self.learning_rate = learning_rate\n",
    "        self.num_classes = num_classes\n",
    "        self.num_filters = num_filters\n",
    "        self.filter_size = filter_size\n",
    "        self.pool_size = pool_size\n",
    "        self.hidden_layer_size = hidden_layer_size\n",
    "        self.dropout_rate = dropout_rate\n",
    "\n",
    "    def build_model(self):\n",
    "        self.model = Sequential()\n",
    "        self.model.add(Conv2D(self.num_filters,self.filter_size,input_shape=self.X_train.shape[1:])) # input_shape = (28,28,1)\n",
    "        self.model.add(Activation('relu'))\n",
    "        self.model.add(MaxPooling2D(pool_size=self.pool_size))\n",
    "        self.model.add(Dropout(self.dropout_rate))\n",
    "        self.model.add(Flatten())\n",
    "        self.model.add(Dense(self.hidden_layer_size))\n",
    "        self.model.add(Activation('relu'))\n",
    "        self.model.add(Dropout(self.dropout_rate))\n",
    "        self.model.add(Dense(self.num_classes))\n",
    "        self.model.add(Activation('softmax'))\n",
    "        self.model.compile(loss='categorical_crossentropy',optimizer=Adam(learning_rate=self.learning_rate),metrics=['accuracy'])\n",
    "\n",
    "    def train_model(self):\n",
    "        self.history = self.model.fit(self.X_train,self.y_train,batch_size=self.batch_size,epochs=self.epochs,verbose=1,validation_data=(self.X_test,self.y_test))\n",
    "\n",
    "    def plot_history(self):\n",
    "        plt.plot(self.history.history['accuracy'])\n",
    "        plt.plot(self.history.history['val_accuracy'])\n",
    "        plt.title('model accuracy')\n",
    "        plt.ylabel('accuracy')\n",
    "        plt.xlabel('epoch')\n",
    "        plt.legend(['train','test'],loc='upper left')\n",
    "        plt.show()\n",
    "\n",
    "    def evaluate_model(self):\n",
    "        scores = self.model.evaluate(self.X_test,self.y_test,verbose=1)\n",
    "        print('Test loss:',scores[0])\n",
    "        print('Test accuracy:',scores[1])\n",
    "\n",
    "    def predict_model(self):\n",
    "        y_pred = self.model.predict(self.X_test)\n",
    "        y_pred = np.argmax(y_pred,axis=1)\n",
    "        y_test = np.argmax(self.y_test,axis=1)\n",
    "        print('Confusion Matrix:')\n",
    "        print(confusion_matrix(y_test,y_pred))\n",
    "        print('Accuracy:',accuracy_score(y_test,y_pred))\n"
   ]
  },
  {
   "cell_type": "code",
   "execution_count": 9,
   "outputs": [],
   "source": [
    "# Load the data\n",
    "data = datasets.load_digits()\n",
    "X = data.images.reshape((len(data.images),8,8,1))\n",
    "y = data.target\n",
    "#y = pd.get_dummies(data.target).values"
   ],
   "metadata": {
    "collapsed": false,
    "pycharm": {
     "name": "#%%\n"
    }
   }
  },
  {
   "cell_type": "code",
   "execution_count": 12,
   "outputs": [
    {
     "data": {
      "text/plain": "array([[[[ 0.],\n         [ 0.],\n         [ 5.],\n         ...,\n         [ 1.],\n         [ 0.],\n         [ 0.]],\n\n        [[ 0.],\n         [ 0.],\n         [13.],\n         ...,\n         [15.],\n         [ 5.],\n         [ 0.]],\n\n        [[ 0.],\n         [ 3.],\n         [15.],\n         ...,\n         [11.],\n         [ 8.],\n         [ 0.]],\n\n        ...,\n\n        [[ 0.],\n         [ 4.],\n         [11.],\n         ...,\n         [12.],\n         [ 7.],\n         [ 0.]],\n\n        [[ 0.],\n         [ 2.],\n         [14.],\n         ...,\n         [12.],\n         [ 0.],\n         [ 0.]],\n\n        [[ 0.],\n         [ 0.],\n         [ 6.],\n         ...,\n         [ 0.],\n         [ 0.],\n         [ 0.]]],\n\n\n       [[[ 0.],\n         [ 0.],\n         [ 0.],\n         ...,\n         [ 5.],\n         [ 0.],\n         [ 0.]],\n\n        [[ 0.],\n         [ 0.],\n         [ 0.],\n         ...,\n         [ 9.],\n         [ 0.],\n         [ 0.]],\n\n        [[ 0.],\n         [ 0.],\n         [ 3.],\n         ...,\n         [ 6.],\n         [ 0.],\n         [ 0.]],\n\n        ...,\n\n        [[ 0.],\n         [ 0.],\n         [ 1.],\n         ...,\n         [ 6.],\n         [ 0.],\n         [ 0.]],\n\n        [[ 0.],\n         [ 0.],\n         [ 1.],\n         ...,\n         [ 6.],\n         [ 0.],\n         [ 0.]],\n\n        [[ 0.],\n         [ 0.],\n         [ 0.],\n         ...,\n         [10.],\n         [ 0.],\n         [ 0.]]],\n\n\n       [[[ 0.],\n         [ 0.],\n         [ 0.],\n         ...,\n         [12.],\n         [ 0.],\n         [ 0.]],\n\n        [[ 0.],\n         [ 0.],\n         [ 3.],\n         ...,\n         [14.],\n         [ 0.],\n         [ 0.]],\n\n        [[ 0.],\n         [ 0.],\n         [ 8.],\n         ...,\n         [16.],\n         [ 0.],\n         [ 0.]],\n\n        ...,\n\n        [[ 0.],\n         [ 9.],\n         [16.],\n         ...,\n         [ 0.],\n         [ 0.],\n         [ 0.]],\n\n        [[ 0.],\n         [ 3.],\n         [13.],\n         ...,\n         [11.],\n         [ 5.],\n         [ 0.]],\n\n        [[ 0.],\n         [ 0.],\n         [ 0.],\n         ...,\n         [16.],\n         [ 9.],\n         [ 0.]]],\n\n\n       ...,\n\n\n       [[[ 0.],\n         [ 0.],\n         [ 1.],\n         ...,\n         [ 1.],\n         [ 0.],\n         [ 0.]],\n\n        [[ 0.],\n         [ 0.],\n         [13.],\n         ...,\n         [ 2.],\n         [ 1.],\n         [ 0.]],\n\n        [[ 0.],\n         [ 0.],\n         [16.],\n         ...,\n         [16.],\n         [ 5.],\n         [ 0.]],\n\n        ...,\n\n        [[ 0.],\n         [ 0.],\n         [16.],\n         ...,\n         [15.],\n         [ 0.],\n         [ 0.]],\n\n        [[ 0.],\n         [ 0.],\n         [15.],\n         ...,\n         [16.],\n         [ 0.],\n         [ 0.]],\n\n        [[ 0.],\n         [ 0.],\n         [ 2.],\n         ...,\n         [ 6.],\n         [ 0.],\n         [ 0.]]],\n\n\n       [[[ 0.],\n         [ 0.],\n         [ 2.],\n         ...,\n         [ 0.],\n         [ 0.],\n         [ 0.]],\n\n        [[ 0.],\n         [ 0.],\n         [14.],\n         ...,\n         [15.],\n         [ 1.],\n         [ 0.]],\n\n        [[ 0.],\n         [ 4.],\n         [16.],\n         ...,\n         [16.],\n         [ 7.],\n         [ 0.]],\n\n        ...,\n\n        [[ 0.],\n         [ 0.],\n         [ 0.],\n         ...,\n         [16.],\n         [ 2.],\n         [ 0.]],\n\n        [[ 0.],\n         [ 0.],\n         [ 4.],\n         ...,\n         [16.],\n         [ 2.],\n         [ 0.]],\n\n        [[ 0.],\n         [ 0.],\n         [ 5.],\n         ...,\n         [12.],\n         [ 0.],\n         [ 0.]]],\n\n\n       [[[ 0.],\n         [ 0.],\n         [10.],\n         ...,\n         [ 1.],\n         [ 0.],\n         [ 0.]],\n\n        [[ 0.],\n         [ 2.],\n         [16.],\n         ...,\n         [ 1.],\n         [ 0.],\n         [ 0.]],\n\n        [[ 0.],\n         [ 0.],\n         [15.],\n         ...,\n         [15.],\n         [ 0.],\n         [ 0.]],\n\n        ...,\n\n        [[ 0.],\n         [ 4.],\n         [16.],\n         ...,\n         [16.],\n         [ 6.],\n         [ 0.]],\n\n        [[ 0.],\n         [ 8.],\n         [16.],\n         ...,\n         [16.],\n         [ 8.],\n         [ 0.]],\n\n        [[ 0.],\n         [ 1.],\n         [ 8.],\n         ...,\n         [12.],\n         [ 1.],\n         [ 0.]]]])"
     },
     "execution_count": 12,
     "metadata": {},
     "output_type": "execute_result"
    }
   ],
   "source": [
    "X"
   ],
   "metadata": {
    "collapsed": false,
    "pycharm": {
     "name": "#%%\n"
    }
   }
  },
  {
   "cell_type": "code",
   "execution_count": 4,
   "outputs": [],
   "source": [
    "# Split the data into training and test sets\n",
    "X_train,X_test,y_train,y_test = train_test_split(X,y,test_size=0.2,random_state=42)"
   ],
   "metadata": {
    "collapsed": false,
    "pycharm": {
     "name": "#%%\n"
    }
   }
  },
  {
   "cell_type": "code",
   "execution_count": 8,
   "outputs": [
    {
     "data": {
      "text/plain": "array([[[[ 0.],\n         [ 0.],\n         [ 5.],\n         ...,\n         [ 1.],\n         [ 0.],\n         [ 0.]],\n\n        [[ 0.],\n         [ 0.],\n         [13.],\n         ...,\n         [15.],\n         [ 5.],\n         [ 0.]],\n\n        [[ 0.],\n         [ 3.],\n         [15.],\n         ...,\n         [11.],\n         [ 8.],\n         [ 0.]],\n\n        ...,\n\n        [[ 0.],\n         [ 4.],\n         [11.],\n         ...,\n         [12.],\n         [ 7.],\n         [ 0.]],\n\n        [[ 0.],\n         [ 2.],\n         [14.],\n         ...,\n         [12.],\n         [ 0.],\n         [ 0.]],\n\n        [[ 0.],\n         [ 0.],\n         [ 6.],\n         ...,\n         [ 0.],\n         [ 0.],\n         [ 0.]]],\n\n\n       [[[ 0.],\n         [ 0.],\n         [ 0.],\n         ...,\n         [ 5.],\n         [ 0.],\n         [ 0.]],\n\n        [[ 0.],\n         [ 0.],\n         [ 0.],\n         ...,\n         [ 9.],\n         [ 0.],\n         [ 0.]],\n\n        [[ 0.],\n         [ 0.],\n         [ 3.],\n         ...,\n         [ 6.],\n         [ 0.],\n         [ 0.]],\n\n        ...,\n\n        [[ 0.],\n         [ 0.],\n         [ 1.],\n         ...,\n         [ 6.],\n         [ 0.],\n         [ 0.]],\n\n        [[ 0.],\n         [ 0.],\n         [ 1.],\n         ...,\n         [ 6.],\n         [ 0.],\n         [ 0.]],\n\n        [[ 0.],\n         [ 0.],\n         [ 0.],\n         ...,\n         [10.],\n         [ 0.],\n         [ 0.]]],\n\n\n       [[[ 0.],\n         [ 0.],\n         [ 0.],\n         ...,\n         [12.],\n         [ 0.],\n         [ 0.]],\n\n        [[ 0.],\n         [ 0.],\n         [ 3.],\n         ...,\n         [14.],\n         [ 0.],\n         [ 0.]],\n\n        [[ 0.],\n         [ 0.],\n         [ 8.],\n         ...,\n         [16.],\n         [ 0.],\n         [ 0.]],\n\n        ...,\n\n        [[ 0.],\n         [ 9.],\n         [16.],\n         ...,\n         [ 0.],\n         [ 0.],\n         [ 0.]],\n\n        [[ 0.],\n         [ 3.],\n         [13.],\n         ...,\n         [11.],\n         [ 5.],\n         [ 0.]],\n\n        [[ 0.],\n         [ 0.],\n         [ 0.],\n         ...,\n         [16.],\n         [ 9.],\n         [ 0.]]],\n\n\n       ...,\n\n\n       [[[ 0.],\n         [ 0.],\n         [ 1.],\n         ...,\n         [ 1.],\n         [ 0.],\n         [ 0.]],\n\n        [[ 0.],\n         [ 0.],\n         [13.],\n         ...,\n         [ 2.],\n         [ 1.],\n         [ 0.]],\n\n        [[ 0.],\n         [ 0.],\n         [16.],\n         ...,\n         [16.],\n         [ 5.],\n         [ 0.]],\n\n        ...,\n\n        [[ 0.],\n         [ 0.],\n         [16.],\n         ...,\n         [15.],\n         [ 0.],\n         [ 0.]],\n\n        [[ 0.],\n         [ 0.],\n         [15.],\n         ...,\n         [16.],\n         [ 0.],\n         [ 0.]],\n\n        [[ 0.],\n         [ 0.],\n         [ 2.],\n         ...,\n         [ 6.],\n         [ 0.],\n         [ 0.]]],\n\n\n       [[[ 0.],\n         [ 0.],\n         [ 2.],\n         ...,\n         [ 0.],\n         [ 0.],\n         [ 0.]],\n\n        [[ 0.],\n         [ 0.],\n         [14.],\n         ...,\n         [15.],\n         [ 1.],\n         [ 0.]],\n\n        [[ 0.],\n         [ 4.],\n         [16.],\n         ...,\n         [16.],\n         [ 7.],\n         [ 0.]],\n\n        ...,\n\n        [[ 0.],\n         [ 0.],\n         [ 0.],\n         ...,\n         [16.],\n         [ 2.],\n         [ 0.]],\n\n        [[ 0.],\n         [ 0.],\n         [ 4.],\n         ...,\n         [16.],\n         [ 2.],\n         [ 0.]],\n\n        [[ 0.],\n         [ 0.],\n         [ 5.],\n         ...,\n         [12.],\n         [ 0.],\n         [ 0.]]],\n\n\n       [[[ 0.],\n         [ 0.],\n         [10.],\n         ...,\n         [ 1.],\n         [ 0.],\n         [ 0.]],\n\n        [[ 0.],\n         [ 2.],\n         [16.],\n         ...,\n         [ 1.],\n         [ 0.],\n         [ 0.]],\n\n        [[ 0.],\n         [ 0.],\n         [15.],\n         ...,\n         [15.],\n         [ 0.],\n         [ 0.]],\n\n        ...,\n\n        [[ 0.],\n         [ 4.],\n         [16.],\n         ...,\n         [16.],\n         [ 6.],\n         [ 0.]],\n\n        [[ 0.],\n         [ 8.],\n         [16.],\n         ...,\n         [16.],\n         [ 8.],\n         [ 0.]],\n\n        [[ 0.],\n         [ 1.],\n         [ 8.],\n         ...,\n         [12.],\n         [ 1.],\n         [ 0.]]]])"
     },
     "execution_count": 8,
     "metadata": {},
     "output_type": "execute_result"
    }
   ],
   "source": [],
   "metadata": {
    "collapsed": false,
    "pycharm": {
     "name": "#%%\n"
    }
   }
  },
  {
   "cell_type": "code",
   "execution_count": 7,
   "outputs": [
    {
     "data": {
      "text/plain": "(1437, 8, 8, 1)"
     },
     "execution_count": 7,
     "metadata": {},
     "output_type": "execute_result"
    }
   ],
   "source": [
    "X_train.shape"
   ],
   "metadata": {
    "collapsed": false,
    "pycharm": {
     "name": "#%%\n"
    }
   }
  },
  {
   "cell_type": "code",
   "execution_count": 5,
   "outputs": [],
   "source": [
    "# Build the model\n",
    "model = Cnn(X_train,y_train,X_test,y_test,epochs=10,batch_size=32,learning_rate=0.001,num_classes=10,num_filters=32,filter_size=(3,3),pool_size=(2,2),hidden_layer_size=128,dropout_rate=0.25)"
   ],
   "metadata": {
    "collapsed": false,
    "pycharm": {
     "name": "#%%\n"
    }
   }
  },
  {
   "cell_type": "code",
   "execution_count": 6,
   "outputs": [
    {
     "data": {
      "text/plain": "(8, 8, 1)"
     },
     "execution_count": 6,
     "metadata": {},
     "output_type": "execute_result"
    }
   ],
   "source": [
    "X_train.shape[1:]"
   ],
   "metadata": {
    "collapsed": false,
    "pycharm": {
     "name": "#%%\n"
    }
   }
  },
  {
   "cell_type": "code",
   "execution_count": null,
   "outputs": [],
   "source": [
    "# Train the model\n",
    "model.build_model()\n"
   ],
   "metadata": {
    "collapsed": false,
    "pycharm": {
     "name": "#%%\n"
    }
   }
  },
  {
   "cell_type": "code",
   "execution_count": 18,
   "outputs": [
    {
     "name": "stdout",
     "output_type": "stream",
     "text": [
      "Epoch 1/10\n",
      "45/45 [==============================] - 1s 4ms/step - loss: 2.6061 - accuracy: 0.2881 - val_loss: 0.8962 - val_accuracy: 0.8444\n",
      "Epoch 2/10\n",
      "45/45 [==============================] - 0s 2ms/step - loss: 0.9407 - accuracy: 0.6875 - val_loss: 0.3045 - val_accuracy: 0.9306\n",
      "Epoch 3/10\n",
      "45/45 [==============================] - 0s 2ms/step - loss: 0.4827 - accuracy: 0.8441 - val_loss: 0.1920 - val_accuracy: 0.9361\n",
      "Epoch 4/10\n",
      "45/45 [==============================] - 0s 2ms/step - loss: 0.3670 - accuracy: 0.8747 - val_loss: 0.1389 - val_accuracy: 0.9528\n",
      "Epoch 5/10\n",
      "45/45 [==============================] - 0s 2ms/step - loss: 0.2743 - accuracy: 0.9144 - val_loss: 0.1159 - val_accuracy: 0.9639\n",
      "Epoch 6/10\n",
      "45/45 [==============================] - 0s 2ms/step - loss: 0.2412 - accuracy: 0.9248 - val_loss: 0.1128 - val_accuracy: 0.9667\n",
      "Epoch 7/10\n",
      "45/45 [==============================] - 0s 2ms/step - loss: 0.1877 - accuracy: 0.9408 - val_loss: 0.0903 - val_accuracy: 0.9750\n",
      "Epoch 8/10\n",
      "45/45 [==============================] - 0s 2ms/step - loss: 0.1476 - accuracy: 0.9478 - val_loss: 0.0753 - val_accuracy: 0.9694\n",
      "Epoch 9/10\n",
      "45/45 [==============================] - 0s 2ms/step - loss: 0.1651 - accuracy: 0.9436 - val_loss: 0.0679 - val_accuracy: 0.9778\n",
      "Epoch 10/10\n",
      "45/45 [==============================] - 0s 2ms/step - loss: 0.1331 - accuracy: 0.9603 - val_loss: 0.0534 - val_accuracy: 0.9806\n"
     ]
    }
   ],
   "source": [
    "model.train_model()"
   ],
   "metadata": {
    "collapsed": false,
    "pycharm": {
     "name": "#%%\n"
    }
   }
  },
  {
   "cell_type": "code",
   "execution_count": 89,
   "outputs": [
    {
     "data": {
      "text/plain": "<Figure size 432x288 with 1 Axes>",
      "image/png": "[encoded data removed]"
     },
     "metadata": {
      "needs_background": "light"
     },
     "output_type": "display_data"
    }
   ],
   "source": [
    "# Plot the history\n",
    "model.plot_history()"
   ],
   "metadata": {
    "collapsed": false,
    "pycharm": {
     "name": "#%%"
    }
   }
  },
  {
   "cell_type": "code",
   "execution_count": 90,
   "outputs": [
    {
     "name": "stdout",
     "output_type": "stream",
     "text": [
      "12/12 [==============================] - 0s 1ms/step - loss: 0.0592 - accuracy: 0.9778\n",
      "Test loss: 0.05921664088964462\n",
      "Test accuracy: 0.9777777791023254\n"
     ]
    }
   ],
   "source": [
    "#Evaluate the model\n",
    "model.evaluate_model()"
   ],
   "metadata": {
    "collapsed": false,
    "pycharm": {
     "name": "#%%\n"
    }
   }
  },
  {
   "cell_type": "code",
   "execution_count": 91,
   "outputs": [
    {
     "name": "stdout",
     "output_type": "stream",
     "text": [
      "Confusion Matrix:\n",
      "[[33  0  0  0  0  0  0  0  0  0]\n",
      " [ 0 28  0  0  0  0  0  0  0  0]\n",
      " [ 0  1 31  1  0  0  0  0  0  0]\n",
      " [ 0  0  0 33  0  1  0  0  0  0]\n",
      " [ 0  0  0  0 46  0  0  0  0  0]\n",
      " [ 0  0  0  0  0 45  1  0  0  1]\n",
      " [ 0  0  0  0  0  0 35  0  0  0]\n",
      " [ 0  0  0  0  0  0  0 34  0  0]\n",
      " [ 0  2  0  0  0  0  0  0 28  0]\n",
      " [ 0  0  0  0  0  0  0  0  1 39]]\n",
      "Accuracy: 0.9777777777777777\n"
     ]
    }
   ],
   "source": [
    "# Predict the model\n",
    "model.predict_model()"
   ],
   "metadata": {
    "collapsed": false,
    "pycharm": {
     "name": "#%%\n"
    }
   }
  },
  {
   "cell_type": "code",
   "execution_count": null,
   "outputs": [],
   "source": [
    "# Save the model\n",
    "model.model.save('digit_classifier.h5')"
   ],
   "metadata": {
    "collapsed": false,
    "pycharm": {
     "name": "#%%\n"
    }
   }
  },
  {
   "cell_type": "code",
   "execution_count": null,
   "outputs": [],
   "source": [
    "def split_data(x, y, ratio):\n",
    "    '''Splits the dataset according to the ratio given.\n",
    "        Shuffles the data using random shuffling before splitting\n",
    "        Converts the y labels as one hot vectors'''\n",
    "    y=y[:,np.newaxis] #convert the labels to one hot vectors\n",
    "    X=np.concatenate((x,y),axis=1) #concatenate the data and labels\n",
    "    np.random.shuffle(X) #shuffle the data\n",
    "    train_size = int(np.shape(X)[0] * ratio) #get the training size\n",
    "    y_train = np.zeros((train_size,2)) #create the training labels\n",
    "    y_test = np.zeros((X.shape[0]-train_size, 2)) #create the testing labels\n",
    "    y1=X[:train_size,-1]\n",
    "    y2=X[train_size:,-1]\n",
    "    y_train[y1==0,0]=1\n",
    "    y_train[y1==1,1]=1\n",
    "    y_test[y2==0,0]=1\n",
    "    y_test[y2==1,1]=1\n",
    "    return X[:train_size,:-1], y_train, X[train_size:,:-1 ], y_test"
   ],
   "metadata": {
    "collapsed": false,
    "pycharm": {
     "name": "#%%\n"
    }
   }
  }
 ],
 "metadata": {
  "kernelspec": {
   "display_name": "Python 3",
   "language": "python",
   "name": "python3"
  },
  "language_info": {
   "codemirror_mode": {
    "name": "ipython",
    "version": 2
   },
   "file_extension": ".py",
   "mimetype": "text/x-python",
   "name": "python",
   "nbconvert_exporter": "python",
   "pygments_lexer": "ipython2",
   "version": "2.7.6"
  }
 },
 "nbformat": 4,
 "nbformat_minor": 0
}